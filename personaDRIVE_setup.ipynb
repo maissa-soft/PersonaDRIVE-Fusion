{
 "cells": [
  {
   "cell_type": "markdown",
   "metadata": {},
   "source": ["# PersonaDRIVE-Fusion — Test Colab\nCe notebook sert juste à tester l'ouverture depuis Google Colab."]
  }
 ],
 "metadata": {
  "kernelspec": {
   "display_name": "Python 3",
   "language": "python",
   "name": "python3"
  }
 },
 "nbformat": 4,
 "nbformat_minor": 2
}
