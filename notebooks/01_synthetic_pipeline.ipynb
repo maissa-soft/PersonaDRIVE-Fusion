import torch
import torch.nn as nn

# Données factices
clinical = torch.rand(4, 5)   # 4 patients, 5 features
bio = torch.rand(4, 10)       # 10 features biologiques
image = torch.rand(4, 1, 32, 32)  # imagerie 32x32

# Encoders simples
clinical_encoder = nn.Linear(5, 8)
bio_encoder = nn.Linear(10, 8)
image_encoder = nn.Sequential(
    nn.Conv2d(1, 4, kernel_size=3, stride=1, padding=1),
    nn.ReLU(),
    nn.Flatten(),
    nn.Linear(4*32*32, 8)
)

# Forward
z_clinical = clinical_encoder(clinical)
z_bio = bio_encoder(bio)
z_image = image_encoder(image)

# Fusion concat
fusion = torch.cat([z_clinical, z_bio, z_image], dim=1)

# Prédiction finale
classifier = nn.Linear(fusion.shape[1], 2)  # binaire
output = classifier(fusion)

print("Fusion shape:", fusion.shape)
print("Output:", output)
