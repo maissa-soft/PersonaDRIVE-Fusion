{
  "nbformat": 4,
  "nbformat_minor": 0,
  "metadata": {
    "colab": {
      "provenance": [],
      "authorship_tag": "ABX9TyPZbv7vDUJ/yCw42HpFM9wo",
      "include_colab_link": true
    },
    "kernelspec": {
      "name": "python3",
      "display_name": "Python 3"
    },
    "language_info": {
      "name": "python"
    }
  },
  "cells": [
    {
      "cell_type": "markdown",
      "metadata": {
        "id": "view-in-github",
        "colab_type": "text"
      },
      "source": [
        "<a href=\"https://colab.research.google.com/github/maissa-soft/PersonaDRIVE-Fusion/blob/main/01_synthetic_pipeline.ipynb\" target=\"_parent\"><img src=\"https://colab.research.google.com/assets/colab-badge.svg\" alt=\"Open In Colab\"/></a>"
      ]
    },
    {
      "cell_type": "code",
      "execution_count": null,
      "metadata": {
        "id": "Gq6xzutgljtY"
      },
      "outputs": [],
      "source": [
        "import torch\n",
        "import torch.nn as nn\n",
        "\n",
        "# Données factices\n",
        "clinical = torch.rand(4, 5)   # 4 patients, 5 features\n",
        "bio = torch.rand(4, 10)       # 10 features biologiques\n",
        "image = torch.rand(4, 1, 32, 32)  # imagerie 32x32\n",
        "\n",
        "# Encoders simples\n",
        "clinical_encoder = nn.Linear(5, 8)\n",
        "bio_encoder = nn.Linear(10, 8)\n",
        "image_encoder = nn.Sequential(\n",
        "    nn.Conv2d(1, 4, kernel_size=3, stride=1, padding=1),\n",
        "    nn.ReLU(),\n",
        "    nn.Flatten(),\n",
        "    nn.Linear(4*32*32, 8)\n",
        ")\n",
        "\n",
        "# Forward\n",
        "z_clinical = clinical_encoder(clinical)\n",
        "z_bio = bio_encoder(bio)\n",
        "z_image = image_encoder(image)\n",
        "\n",
        "# Fusion concat\n",
        "fusion = torch.cat([z_clinical, z_bio, z_image], dim=1)\n",
        "\n",
        "# Prédiction finale\n",
        "classifier = nn.Linear(fusion.shape[1], 2)  # binaire\n",
        "output = classifier(fusion)\n",
        "\n",
        "print(\"Fusion shape:\", fusion.shape)\n",
        "print(\"Output:\", output)\n"
      ]
    }
  ]
}