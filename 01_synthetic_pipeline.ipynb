{
  "nbformat": 4,
  "nbformat_minor": 0,
  "metadata": {
    "colab": {
      "provenance": [],
      "authorship_tag": "ABX9TyPnwg/6ssOs/y0n64z5I8+a",
      "include_colab_link": true
    },
    "kernelspec": {
      "name": "python3",
      "display_name": "Python 3"
    },
    "language_info": {
      "name": "python"
    }
  },
  "cells": [
    {
      "cell_type": "markdown",
      "metadata": {
        "id": "view-in-github",
        "colab_type": "text"
      },
      "source": [
        "<a href=\"https://colab.research.google.com/github/maissa-soft/PersonaDRIVE-Fusion/blob/main/01_synthetic_pipeline.ipynb\" target=\"_parent\"><img src=\"https://colab.research.google.com/assets/colab-badge.svg\" alt=\"Open In Colab\"/></a>"
      ]
    },
    {
      "cell_type": "code",
      "source": [
        "!git clone https://github.com/maissa-soft/personaDRIVE-fusion.git\n",
        "%cd personaDRIVE-fusion\n",
        "!ls\n"
      ],
      "metadata": {
        "id": "pN7irFJrmqxi",
        "outputId": "119c4d12-9740-4fe4-8a81-e5dff3d78807",
        "colab": {
          "base_uri": "https://localhost:8080/"
        }
      },
      "execution_count": 3,
      "outputs": [
        {
          "output_type": "stream",
          "name": "stdout",
          "text": [
            "Cloning into 'personaDRIVE-fusion'...\n",
            "remote: Enumerating objects: 54, done.\u001b[K\n",
            "remote: Counting objects: 100% (54/54), done.\u001b[K\n",
            "remote: Compressing objects: 100% (45/45), done.\u001b[K\n",
            "remote: Total 54 (delta 17), reused 3 (delta 0), pack-reused 0 (from 0)\u001b[K\n",
            "Receiving objects: 100% (54/54), 17.33 KiB | 4.33 MiB/s, done.\n",
            "Resolving deltas: 100% (17/17), done.\n",
            "/content/personaDRIVE-fusion\n",
            "01_synthetic_pipeline.ipynb  ex.py\t\t       README.md\n",
            "data\t\t\t     notebooks\t\t       requirements.txt\n",
            "environment.yml\t\t     personaDRIVE_setup.ipynb  src\n"
          ]
        }
      ]
    },
    {
      "cell_type": "code",
      "execution_count": 4,
      "metadata": {
        "id": "Gq6xzutgljtY",
        "outputId": "01e40b18-225f-474a-ad89-f1043c288af9",
        "colab": {
          "base_uri": "https://localhost:8080/"
        }
      },
      "outputs": [
        {
          "output_type": "stream",
          "name": "stdout",
          "text": [
            "Fusion shape: torch.Size([4, 24])\n",
            "Output: tensor([[-0.0068,  0.0261],\n",
            "        [ 0.0498,  0.0861],\n",
            "        [ 0.1137,  0.1011],\n",
            "        [ 0.0932,  0.0648]], grad_fn=<AddmmBackward0>)\n"
          ]
        }
      ],
      "source": [
        "import torch\n",
        "import torch.nn as nn\n",
        "\n",
        "# Données factices\n",
        "clinical = torch.rand(4, 5)   # 4 patients, 5 features\n",
        "bio = torch.rand(4, 10)       # 10 features biologiques\n",
        "image = torch.rand(4, 1, 32, 32)  # imagerie 32x32\n",
        "\n",
        "# Encoders simples\n",
        "clinical_encoder = nn.Linear(5, 8)\n",
        "bio_encoder = nn.Linear(10, 8)\n",
        "image_encoder = nn.Sequential(\n",
        "    nn.Conv2d(1, 4, kernel_size=3, stride=1, padding=1),\n",
        "    nn.ReLU(),\n",
        "    nn.Flatten(),\n",
        "    nn.Linear(4*32*32, 8)\n",
        ")\n",
        "\n",
        "# Forward\n",
        "z_clinical = clinical_encoder(clinical)\n",
        "z_bio = bio_encoder(bio)\n",
        "z_image = image_encoder(image)\n",
        "\n",
        "# Fusion concat\n",
        "fusion = torch.cat([z_clinical, z_bio, z_image], dim=1)\n",
        "\n",
        "# Prédiction finale\n",
        "classifier = nn.Linear(fusion.shape[1], 2)  # binaire\n",
        "output = classifier(fusion)\n",
        "\n",
        "print(\"Fusion shape:\", fusion.shape)\n",
        "print(\"Output:\", output)\n"
      ]
    }
  ]
}